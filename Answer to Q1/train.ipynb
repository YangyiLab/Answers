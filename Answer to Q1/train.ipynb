{
 "cells": [
  {
   "cell_type": "code",
   "execution_count": 1,
   "metadata": {},
   "outputs": [
    {
     "name": "stderr",
     "output_type": "stream",
     "text": [
      "Duplicate key in file PosixPath('/home/ubuntu/.local/lib/python3.8/site-packages/matplotlib/mpl-data/matplotlibrc'), line 769 ('font.family\\t\\t\\t : sans-serif')\n",
      "Duplicate key in file PosixPath('/home/ubuntu/.local/lib/python3.8/site-packages/matplotlib/mpl-data/matplotlibrc'), line 770 ('font.sans-serif\\t\\t : SimHei')\n",
      "Duplicate key in file PosixPath('/home/ubuntu/.local/lib/python3.8/site-packages/matplotlib/mpl-data/matplotlibrc'), line 771 ('axes.unicode_minus   : False                                 # animation in HTML (i.e. IPython notebook)')\n"
     ]
    }
   ],
   "source": [
    "from model import Model\n",
    "import numpy as np\n",
    "import argparse\n",
    "from datetime import datetime\n",
    "import os\n",
    "import sys\n",
    "import time\n",
    "from torch import nn\n",
    "import matplotlib.pyplot as plt\n",
    "from torchvision import datasets\n",
    "from torch.utils.data import Dataset\n",
    "import numpy as np\n",
    "from model import Model\n",
    "from torchvision.transforms import ToTensor\n",
    "from torch.utils.data import DataLoader\n",
    "import torch\n",
    "import torch.utils.data\n",
    "\n",
    "# device=torch.device(\"cuda\" if torch.cuda.is_available() else \"cpu\")\n",
    "# model = Model(num_classes=1, num_features=128,num_instances=4)\n",
    "# model.to(device)\n",
    "# model"
   ]
  },
  {
   "cell_type": "code",
   "execution_count": 2,
   "metadata": {},
   "outputs": [
    {
     "name": "stderr",
     "output_type": "stream",
     "text": [
      "/usr/local/lib/python3.8/dist-packages/torchvision/datasets/mnist.py:498: UserWarning: The given NumPy array is not writeable, and PyTorch does not support non-writeable tensors. This means you can write to the underlying (supposedly non-writeable) NumPy array using the tensor. You may want to copy the array to protect its data or make it writeable before converting it to a tensor. This type of warning will be suppressed for the rest of this program. (Triggered internally at  /pytorch/torch/csrc/utils/tensor_numpy.cpp:180.)\n",
      "  return torch.from_numpy(parsed.astype(m[2], copy=False)).view(*s)\n"
     ]
    }
   ],
   "source": [
    "training_data = datasets.MNIST(\n",
    "    root=\"../data\",\n",
    "    train=True,\n",
    "    download=False,\n",
    "    transform=ToTensor()\n",
    ")\n",
    "test_data = datasets.MNIST(\n",
    "    root=\"../data\",\n",
    "    train=False,\n",
    "    download=False,\n",
    "    transform=ToTensor()\n",
    ")"
   ]
  },
  {
   "cell_type": "code",
   "execution_count": 3,
   "metadata": {},
   "outputs": [
    {
     "data": {
      "image/png": "[encoded data removed]",
      "text/plain": [
       "<Figure size 576x576 with 9 Axes>"
      ]
     },
     "metadata": {
      "needs_background": "light"
     },
     "output_type": "display_data"
    }
   ],
   "source": [
    "training_data_filter = [(i,j) for (i,j) in training_data if j==0 or j==7]\n",
    "test_data_filter = [(i,j) for (i,j) in test_data if j==0 or j==7]\n",
    "labels_map = np.arange(0,10,1)\n",
    "figure = plt.figure(figsize=(8, 8))\n",
    "cols, rows = 3, 3\n",
    "for i in range(1, cols * rows + 1):\n",
    "    sample_idx = torch.randint(len(training_data_filter), size=(1,)).item()\n",
    "    img, label = training_data_filter[sample_idx]\n",
    "    figure.add_subplot(rows, cols, i)\n",
    "    plt.title(labels_map[label])\n",
    "    plt.axis(\"off\")\n",
    "    plt.imshow(img.squeeze(), cmap=\"gray\")\n",
    "plt.show()"
   ]
  },
  {
   "cell_type": "code",
   "execution_count": 4,
   "metadata": {},
   "outputs": [],
   "source": [
    "from typing import List, Dict, Tuple\n",
    "import copy\n",
    "def data_generation(instance_index_label: List[Tuple]) -> List[Dict]:\n",
    "    \"\"\"\n",
    "    bags: {key1: [ind1, ind2, ind3],\n",
    "           key2: [ind1, ind2, ind3, ind4, ind5],\n",
    "           ... }\n",
    "    bag_lbls:\n",
    "        {key1: 0,\n",
    "         key2: 1,\n",
    "         ... }\n",
    "    \"\"\"\n",
    "    bag_size = np.ones(len(instance_index_label)//20,dtype = np.int)+99\n",
    "    data_cp = copy.copy(instance_index_label)\n",
    "    np.random.shuffle(data_cp)\n",
    "    bags = {}\n",
    "    bags_per_instance_labels = {}\n",
    "    bags_labels = {}\n",
    "    for bag_ind, size in enumerate(bag_size):\n",
    "        bags[bag_ind] = []\n",
    "        bags_per_instance_labels[bag_ind] = []\n",
    "        p = np.random.randint(0,101)\n",
    "\n",
    "        try:\n",
    "            for _ in range(size):\n",
    "                r = np.random.randint(0,len(instance_index_label))\n",
    "                inst_ind, lbl = data_cp[r][0],data_cp[r][1]\n",
    "                while p>0 and lbl ==7:\n",
    "                    r = np.random.randint(0,len(instance_index_label))\n",
    "                    inst_ind, lbl = data_cp[r][0],data_cp[r][1]\n",
    "                while p==0 and lbl ==0:\n",
    "                    r = np.random.randint(0,len(instance_index_label))\n",
    "                    inst_ind, lbl = data_cp[r][0],data_cp[r][1]\n",
    "                if p>0 and lbl==0:\n",
    "                    p-=1    \n",
    "                bags[bag_ind].append(inst_ind)\n",
    "                # simplfy, just use a temporary variable instead of bags_per_instance_labels\n",
    "                bags_per_instance_labels[bag_ind].append(lbl)\n",
    "            bags_labels[bag_ind] = bag_label_from_instance_labels(bags_per_instance_labels[bag_ind])\n",
    "        except:\n",
    "            break\n",
    "    return bags, bags_labels\n",
    "\n",
    "def bag_label_from_instance_labels(instance_labels):\n",
    "    return int(sum(((x==0) for x in instance_labels)))/100\n",
    "from torch.utils.data import Dataset\n",
    "class Transform_data(Dataset):\n",
    "    \"\"\"\n",
    "    We want to 1. pad tensor 2. transform the data to the size that fits in the input size.\n",
    "    \n",
    "    \"\"\"\n",
    "\n",
    "    def __init__(self, data, transform=None):\n",
    "        self.transform = transform\n",
    "        self.data = data\n",
    "        \n",
    "    def __getitem__(self, index):\n",
    "        tensor = self.data[index][0]\n",
    "        if self.transform is not None:\n",
    "            tensor = self.transform(tensor)\n",
    "        return (tensor, self.data[index][1])\n",
    "\n",
    "    def __len__(self):\n",
    "        return len(self.data)\n",
    "\n",
    "def pad_tensor(data:list, max_number_instance) -> list:\n",
    "    \"\"\"\n",
    "    Since our bag has different sizes, we need to pad each tensor to have the same shape (max: 7).\n",
    "    We will look through each one instance and look at the shape of the tensor, and then we will pad 7-n \n",
    "    to the existing tensor where n is the number of instances in the bag.\n",
    "    The function will return a padded data set.\"\"\"\n",
    "    new_data = []\n",
    "    for bag_index in range(len(data)):\n",
    "        tensor_size = len(data[bag_index][0])\n",
    "        pad_size = max_number_instance - tensor_size\n",
    "        p2d = (0,0, 0, pad_size)\n",
    "        padded = nn.functional.pad(data[bag_index][0], p2d, 'constant', 0)\n",
    "        new_data.append((torch.reshape(padded,(-1,28,28)), data[bag_index][1]))\n",
    "    return new_data\n",
    "\n",
    "def get_data_loaders(train_data, test_data, train_batch_size=64, val_batch_size=64):\n",
    "    train_loader = DataLoader(train_data, batch_size=train_batch_size, shuffle=True)\n",
    "    val_loader = DataLoader(test_data, batch_size=val_batch_size, shuffle=False)\n",
    "    return train_loader, val_loader\n",
    "\n",
    "\n",
    "def construct_data(instance_index_label,data):\n",
    "    bag_indices, bag_labels = data_generation(instance_index_label)\n",
    "    bag_features = {kk: torch.Tensor([data[i][0].numpy() for i in inds]) for kk, inds in bag_indices.items()}\n",
    "    train_data = [(bag_features[i],bag_labels[i]) for i in range(len(bag_features)-1)]\n",
    "    max_number_instance = 100\n",
    "    padded_data = pad_tensor(train_data, max_number_instance)\n",
    "    return padded_data"
   ]
  },
  {
   "cell_type": "code",
   "execution_count": 5,
   "metadata": {},
   "outputs": [],
   "source": [
    "instance_index_label = [(i , training_data_filter[i][1]) for i in range(len(training_data_filter))]\n",
    "instance_index_label_test = [(i , test_data_filter[i][1]) for i in range(len(test_data_filter))]\n",
    "padded_train = construct_data(instance_index_label,training_data_filter)\n",
    "padded_test = construct_data(instance_index_label_test,test_data_filter)"
   ]
  },
  {
   "cell_type": "code",
   "execution_count": 21,
   "metadata": {},
   "outputs": [],
   "source": [
    "model = torch.load(\"Q2.pt\")"
   ]
  },
  {
   "cell_type": "code",
   "execution_count": 22,
   "metadata": {},
   "outputs": [],
   "source": [
    "ys = [b for (_,b) in padded_test]\n",
    "y_s = [model(a.reshape([-1,1,28,28])) for (a,_) in padded_test]\n",
    "# # a,b = padded_test[2]\n",
    "# # a = a.reshape([-1,1,28,28])\n",
    "# r = np.random.randint(0,101)\n",
    "# r"
   ]
  },
  {
   "cell_type": "code",
   "execution_count": 23,
   "metadata": {},
   "outputs": [
    {
     "data": {
      "image/png": "[encoded data removed]",
      "text/plain": [
       "<Figure size 432x288 with 1 Axes>"
      ]
     },
     "metadata": {
      "needs_background": "light"
     },
     "output_type": "display_data"
    }
   ],
   "source": [
    "plt.hist(np.array(ys,dtype=np.float))\n",
    "y_s = np.array(y_s,dtype=np.float)\n",
    "# ys"
   ]
  },
  {
   "cell_type": "code",
   "execution_count": 24,
   "metadata": {},
   "outputs": [
    {
     "data": {
      "text/plain": [
       "(0.0, 1.0)"
      ]
     },
     "execution_count": 24,
     "metadata": {},
     "output_type": "execute_result"
    },
    {
     "data": {
      "image/png": "[encoded data removed]",
      "text/plain": [
       "<Figure size 432x288 with 1 Axes>"
      ]
     },
     "metadata": {
      "needs_background": "light"
     },
     "output_type": "display_data"
    }
   ],
   "source": [
    "plt.scatter(ys,y_s)\n",
    "# plt.xlim([0,1])\n",
    "plt.ylim([0,1])"
   ]
  },
  {
   "cell_type": "code",
   "execution_count": null,
   "metadata": {},
   "outputs": [],
   "source": [
    "# plt.scatter(ys,y_s.detach())\n",
    "a,b = padded_test[12]\n",
    "# model(a.reshape([-1,1,28,28])),b"
   ]
  },
  {
   "cell_type": "code",
   "execution_count": null,
   "metadata": {},
   "outputs": [],
   "source": [
    "# a = a.reshape([28*10,28*10])\n",
    "b = a[0:4].flatten()\n",
    "plt.imshow(b.view([56,-1]))\n",
    "a.shape"
   ]
  },
  {
   "cell_type": "code",
   "execution_count": null,
   "metadata": {},
   "outputs": [],
   "source": [
    "b =  b.view([28*2,-1])\n",
    "# plt.imshow(b.view([28,-1]))\n",
    "b.shape\n",
    "plt.imshow(b[0:56,0:56])"
   ]
  },
  {
   "cell_type": "code",
   "execution_count": null,
   "metadata": {},
   "outputs": [],
   "source": [
    "\n",
    "def make_grid(data, size=(4,4)):\n",
    "    rows, columns = size[0], size[1]\n",
    "    data = np.array(data)\n",
    " \n",
    "    # if (data<=1).all():\n",
    "    #     data = (data*255).astype(np.uint8)\n",
    "        \n",
    "    data_row, data_columns = [], []\n",
    "    for row in range(rows):\n",
    "        data_columns.clear()\n",
    "        for column in range(columns):\n",
    "            data_columns.append(data[row*columns+column])\n",
    "        data_row.append(np.hstack(copy.deepcopy(data_columns)))\n",
    " \n",
    "    data = np.vstack(data_row)\n",
    "    return data\n"
   ]
  },
  {
   "cell_type": "code",
   "execution_count": null,
   "metadata": {},
   "outputs": [],
   "source": [
    "plt.imshow(make_grid(a,(10,10)))\n",
    "b = make_grid(a,(10,10))\n",
    "# b[]\n",
    "b[10]\n",
    "plt.imshow(b.reshape([28*5,-1]))\n",
    "# c = torch.tensor([1,2,3,4,5,6])\n",
    "# c.reshape([-1,2])\n",
    "# a = a.reshape([-1,1,28,28])\n",
    "# c = a.reshape ([-1,100,28*28])\n",
    "# c.shape\n",
    "# plt.imshow(c[0][0].reshape([28,28]))"
   ]
  }
 ],
 "metadata": {
  "interpreter": {
   "hash": "916dbcbb3f70747c44a77c7bcd40155683ae19c65e1c03b4aa3499c5328201f1"
  },
  "kernelspec": {
   "display_name": "Python 3.8.10 64-bit",
   "language": "python",
   "name": "python3"
  },
  "language_info": {
   "codemirror_mode": {
    "name": "ipython",
    "version": 3
   },
   "file_extension": ".py",
   "mimetype": "text/x-python",
   "name": "python",
   "nbconvert_exporter": "python",
   "pygments_lexer": "ipython3",
   "version": "3.8.10"
  },
  "orig_nbformat": 4
 },
 "nbformat": 4,
 "nbformat_minor": 2
}
